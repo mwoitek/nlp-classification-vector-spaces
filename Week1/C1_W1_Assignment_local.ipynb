{
 "cells": [
  {
   "cell_type": "markdown",
   "metadata": {},
   "source": [
    "# Assignment 1: Logistic Regression\n",
    "Welcome to week one of this specialization. You will learn about logistic\n",
    "regression. Concretely, you will be implementing logistic regression for\n",
    "sentiment analysis on tweets. Given a tweet, you will decide if it has a\n",
    "positive sentiment or a negative one. Specifically you will:\n",
    "\n",
    "* Learn how to extract features for logistic regression given some text\n",
    "* Implement logistic regression from scratch\n",
    "* Apply logistic regression on a natural language processing task\n",
    "* Test using your logistic regression\n",
    "* Perform error analysis\n",
    "\n",
    "We will be using a data set of tweets. Hopefully you will get more than 99%\n",
    "accuracy.\n",
    "Run the cell below to load in the packages.\n",
    "\n",
    "## Import functions and data"
   ]
  },
  {
   "cell_type": "code",
   "execution_count": null,
   "metadata": {},
   "outputs": [],
   "source": [
    "# Run this cell to import nltk.\n",
    "import nltk\n",
    "from os import getcwd"
   ]
  },
  {
   "cell_type": "markdown",
   "metadata": {},
   "source": [
    "### Imported functions\n",
    "\n",
    "Download the data needed for this assignment. Check out the [documentation for\n",
    "the twitter_samples dataset](http://www.nltk.org/howto/twitter.html).\n",
    "\n",
    "* twitter_samples: if you're running this notebook on your local computer, you\n",
    "will need to download it using:"
   ]
  },
  {
   "cell_type": "code",
   "execution_count": null,
   "metadata": {
    "attributes": {
     "classes": [
      "Python"
     ],
     "id": ""
    }
   },
   "outputs": [],
   "source": [
    "nltk.download('twitter_samples')"
   ]
  },
  {
   "cell_type": "markdown",
   "metadata": {},
   "source": [
    "* stopwords: if you're running this notebook on your local computer, you will\n",
    "need to download it using:"
   ]
  },
  {
   "cell_type": "code",
   "execution_count": null,
   "metadata": {},
   "outputs": [],
   "source": [
    "nltk.download('stopwords')"
   ]
  },
  {
   "cell_type": "markdown",
   "metadata": {},
   "source": [
    "#### Import some helper functions that we provided in the utils.py file:\n",
    "* `process_tweet()`: cleans the text, tokenizes it into separate words, removes\n",
    "stopwords, and converts words to stems.\n",
    "* `build_freqs()`: this counts how often a word in the 'corpus' (the entire set\n",
    "of tweets) was associated with a positive label '1' or a negative label '0',\n",
    "then builds the `freqs` dictionary, where each key is a (word,label) tuple, and\n",
    "the value is the count of its frequency within the corpus of tweets."
   ]
  },
  {
   "cell_type": "code",
   "execution_count": null,
   "metadata": {},
   "outputs": [],
   "source": [
    "# Add folder tmp2 from our local workspace containing pre-downloaded corpora\n",
    "# files to nltk's data path. This enables importing of these files without\n",
    "# downloading it again when we refresh our workspace.\n",
    "filePath = f\"{getcwd()}/../tmp2/\"\n",
    "nltk.data.path.append(filePath)"
   ]
  },
  {
   "cell_type": "code",
   "execution_count": null,
   "metadata": {},
   "outputs": [],
   "source": [
    "import numpy as np\n",
    "import pandas as pd\n",
    "from nltk.corpus import twitter_samples\n",
    "from utils import process_tweet, build_freqs"
   ]
  },
  {
   "cell_type": "markdown",
   "metadata": {},
   "source": [
    "### Prepare the data\n",
    "* The `twitter_samples` contains subsets of 5,000 positive tweets, 5,000\n",
    "negative tweets, and the full set of 10,000 tweets.\n",
    "* If you used all three datasets, we would introduce duplicates of the\n",
    "positive tweets and negative tweets.\n",
    "* You will select just the five thousand positive tweets and five thousand\n",
    "negative tweets."
   ]
  },
  {
   "cell_type": "code",
   "execution_count": null,
   "metadata": {},
   "outputs": [],
   "source": [
    "# Select the set of positive and negative tweets:\n",
    "all_positive_tweets = twitter_samples.strings(\"positive_tweets.json\")\n",
    "all_negative_tweets = twitter_samples.strings(\"negative_tweets.json\")"
   ]
  },
  {
   "cell_type": "markdown",
   "metadata": {},
   "source": [
    "* Train test split: 20% will be in the test set, and 80% in the training set."
   ]
  },
  {
   "cell_type": "code",
   "execution_count": null,
   "metadata": {},
   "outputs": [],
   "source": [
    "# Split the data into two pieces, one for training and one for testing\n",
    "# (validation set):\n",
    "\n",
    "train_pos = all_positive_tweets[:4000]\n",
    "test_pos = all_positive_tweets[4000:]\n",
    "\n",
    "train_neg = all_negative_tweets[:4000]\n",
    "test_neg = all_negative_tweets[4000:]\n",
    "\n",
    "train_x = train_pos + train_neg\n",
    "test_x = test_pos + test_neg"
   ]
  },
  {
   "cell_type": "markdown",
   "metadata": {},
   "source": [
    "* Create the numpy array of positive labels and negative labels."
   ]
  },
  {
   "cell_type": "code",
   "execution_count": null,
   "metadata": {},
   "outputs": [],
   "source": [
    "# Combine positive and negative labels:\n",
    "\n",
    "train_y = np.append(\n",
    "    np.ones((len(train_pos), 1)),\n",
    "    np.zeros((len(train_neg), 1)),\n",
    "    axis=0\n",
    ")\n",
    "\n",
    "test_y = np.append(\n",
    "    np.ones((len(test_pos), 1)),\n",
    "    np.zeros((len(test_neg), 1)),\n",
    "    axis=0\n",
    ")"
   ]
  },
  {
   "cell_type": "code",
   "execution_count": null,
   "metadata": {},
   "outputs": [],
   "source": [
    "# Print the shape of the training and test sets:\n",
    "print(\"train_y.shape = \" + str(train_y.shape))\n",
    "print(\"test_y.shape = \" + str(test_y.shape))"
   ]
  },
  {
   "cell_type": "markdown",
   "metadata": {},
   "source": [
    "* Create the frequency dictionary using the imported `build_freqs()` function.\n",
    "* We highly recommend that you open `utils.py` and read the `build_freqs()`\n",
    "function to understand what it is doing.\n",
    "* To view the file directory, go to the menu and click File->Open."
   ]
  },
  {
   "cell_type": "code",
   "execution_count": null,
   "metadata": {
    "attributes": {
     "classes": [
      "Python"
     ],
     "id": ""
    }
   },
   "outputs": [],
   "source": [
    "    for y,tweet in zip(ys, tweets):\n",
    "        for word in process_tweet(tweet):\n",
    "            pair = (word, y)\n",
    "            if pair in freqs:\n",
    "                freqs[pair] += 1\n",
    "            else:\n",
    "                freqs[pair] = 1"
   ]
  },
  {
   "cell_type": "markdown",
   "metadata": {},
   "source": [
    "* Notice how the outer for loop goes through each tweet, and the inner for loop\n",
    "steps through each word in a tweet.\n",
    "* The `freqs` dictionary is the frequency dictionary that's being built.\n",
    "* The key is the tuple (word, label), such as (\"happy\",1) or (\"happy\",0). The\n",
    "value stored for each key is the count of how many times the word \"happy\" was\n",
    "associated with a positive label, or how many times \"happy\" was associated with\n",
    "a negative label."
   ]
  },
  {
   "cell_type": "code",
   "execution_count": null,
   "metadata": {},
   "outputs": [],
   "source": [
    "# Create the frequency dictionary:\n",
    "freqs = build_freqs(train_x, train_y)\n",
    "\n",
    "# Check the output:\n",
    "print(\"type(freqs) = \" + str(type(freqs)))\n",
    "print(\"len(freqs) = \" + str(len(freqs.keys())))"
   ]
  },
  {
   "cell_type": "markdown",
   "metadata": {},
   "source": [
    "#### Expected output"
   ]
  },
  {
   "cell_type": "code",
   "execution_count": null,
   "metadata": {},
   "outputs": [],
   "source": [
    "type(freqs) = <class 'dict'>\n",
    "len(freqs) = 11346"
   ]
  },
  {
   "cell_type": "markdown",
   "metadata": {},
   "source": [
    "### Process tweet\n",
    "The given function `process_tweet()` tokenizes the tweet into individual words,\n",
    "removes stop words and applies stemming."
   ]
  },
  {
   "cell_type": "code",
   "execution_count": null,
   "metadata": {},
   "outputs": [],
   "source": [
    "# Test the function below:\n",
    "print(\"This is an example of a positive tweet:\\n\" + train_x[0])\n",
    "print(\n",
    "    \"\\nThis is an example of the processed version of the tweet:\\n\",\n",
    "    process_tweet(train_x[0])\n",
    ")"
   ]
  },
  {
   "cell_type": "markdown",
   "metadata": {},
   "source": [
    "#### Expected output"
   ]
  },
  {
   "cell_type": "code",
   "execution_count": null,
   "metadata": {},
   "outputs": [],
   "source": [
    "This is an example of a positive tweet:\n",
    "#FollowFriday @France_Inte @PKuchly57 @Milipol_Paris for being top engaged\n",
    "members in my community this week :)\n",
    "\n",
    "This is an example of the processes version:\n",
    "['followfriday', 'top', 'engag', 'member', 'commun', 'week', ':)']"
   ]
  },
  {
   "cell_type": "markdown",
   "metadata": {},
   "source": [
    "# Part 1: Logistic regression\n",
    "\n",
    "### Part 1.1: Sigmoid\n",
    "You will learn to use logistic regression for text classification.\n",
    "* The sigmoid function is defined as:\n",
    "\n",
    "$$ h(z) = \\frac{1}{1+\\exp^{-z}} \\tag{1}$$\n",
    "\n",
    "It maps the input 'z' to a value that ranges between 0 and 1, and so it can be\n",
    "treated as a probability.\n",
    "\n",
    "<div style=\"width:image width px; font-size:100%; text-align:center;\"><img\n",
    "src='../tmp2/sigmoid_plot.jpg' alt=\"alternate text\" width=\"width\"\n",
    "height=\"height\" style=\"width:300px;height:200px;\" /> Figure 1 </div>\n",
    "\n",
    "#### Instructions: Implement the sigmoid function\n",
    "* You will want this function to work if z is a scalar as well as if it is an\n",
    "array.\n",
    "\n",
    "<details>\n",
    "<summary>\n",
    "    <font size=\"3\" color=\"darkgreen\"><b>Hints</b></font>\n",
    "</summary>\n",
    "<p>\n",
    "<ul>\n",
    "    <li><a\n",
    "href=\"https://docs.scipy.org/doc/numpy/reference/generated/numpy.exp.html\" >\n",
    "numpy.exp </a> </li>\n",
    "\n",
    "</ul>\n",
    "</p>"
   ]
  },
  {
   "cell_type": "code",
   "execution_count": null,
   "metadata": {},
   "outputs": [],
   "source": [
    "# UNQ_C1 (UNIQUE CELL IDENTIFIER, DO NOT EDIT)\n",
    "def sigmoid(z):\n",
    "    \"\"\"\n",
    "    Input:\n",
    "        z: Can be a scalar or an array.\n",
    "    Output:\n",
    "        h: sigmoid of z.\n",
    "    \"\"\"\n",
    "\n",
    "    # START CODE HERE\n",
    "    # Calculate the sigmoid of z:\n",
    "    h = 1 + np.exp(-z, dtype=np.float_)\n",
    "    h = np.reciprocal(h)\n",
    "    # END CODE HERE\n",
    "\n",
    "    return h"
   ]
  },
  {
   "cell_type": "code",
   "execution_count": null,
   "metadata": {},
   "outputs": [],
   "source": [
    "# Testing your function:\n",
    "\n",
    "if sigmoid(0) == 0.5:\n",
    "    print(\"SUCCESS!\")\n",
    "else:\n",
    "    print(\"Oops!\")\n",
    "\n",
    "if sigmoid(4.92) == 0.9927537604041685:\n",
    "    print(\"CORRECT!\")\n",
    "else:\n",
    "    print(\"Oops again!\")"
   ]
  },
  {
   "cell_type": "markdown",
   "metadata": {},
   "source": [
    "### Logistic regression: regression and a sigmoid\n",
    "\n",
    "Logistic regression takes a regular linear regression, and applies a sigmoid to\n",
    "the output of the linear regression.\n",
    "\n",
    "Regression:\n",
    "$$z = \\theta_0 x_0 + \\theta_1 x_1 + \\theta_2 x_2 + ... \\theta_N x_N$$\n",
    "Note that the $\\theta$ values are \"weights\". If you took the Deep Learning\n",
    "Specialization, we referred to the weights with the `w` vector.  In this course,\n",
    "we're using a different variable $\\theta$ to refer to the weights.\n",
    "\n",
    "Logistic regression\n",
    "$$ h(z) = \\frac{1}{1+\\exp^{-z}}$$\n",
    "$$z = \\theta_0 x_0 + \\theta_1 x_1 + \\theta_2 x_2 + ... \\theta_N x_N$$\n",
    "We will refer to 'z' as the 'logits'.\n",
    "\n",
    "### Part 1.2 Cost function and Gradient\n",
    "\n",
    "The cost function used for logistic regression is the average of the log loss\n",
    "across all training examples:\n",
    "\n",
    "$$J(\\theta) = -\\frac{1}{m} \\sum_{i=1}^m y^{(i)}\\log (h(z(\\theta)^{(i)})) +\n",
    "(1-y^{(i)})\\log (1-h(z(\\theta)^{(i)}))\\tag{5} $$\n",
    "* $m$ is the number of training examples\n",
    "* $y^{(i)}$ is the actual label of the i-th training example.\n",
    "* $h(z(\\theta)^{(i)})$ is the model's prediction for the i-th training example.\n",
    "\n",
    "The loss function for a single training example is\n",
    "$$ Loss = -1 \\times \\left( y^{(i)}\\log (h(z(\\theta)^{(i)})) + (1-y^{(i)})\\log\n",
    "(1-h(z(\\theta)^{(i)})) \\right)$$\n",
    "\n",
    "* All the $h$ values are between 0 and 1, so the logs will be negative. That is\n",
    "the reason for the factor of -1 applied to the sum of the two loss terms.\n",
    "* Note that when the model predicts 1 ($h(z(\\theta)) = 1$) and the label $y$ is\n",
    "also 1, the loss for that training example is 0.\n",
    "* Similarly, when the model predicts 0 ($h(z(\\theta)) = 0$) and the actual label\n",
    "is also 0, the loss for that training example is 0.\n",
    "* However, when the model prediction is close to 1 ($h(z(\\theta)) = 0.9999$) and\n",
    "the label is 0, the second term of the log loss becomes a large negative number,\n",
    "which is then multiplied by the overall factor of -1 to convert it to a positive\n",
    "loss value. $-1 \\times (1 - 0) \\times log(1 - 0.9999) \\approx 9.2$ The closer\n",
    "the model prediction gets to 1, the larger the loss."
   ]
  },
  {
   "cell_type": "code",
   "execution_count": null,
   "metadata": {},
   "outputs": [],
   "source": [
    "# Verify that when the model predicts close to 1, but the actual label is 0,\n",
    "# the loss is a large positive value:\n",
    "-1 * (1 - 0) * np.log(1 - 0.9999) # Loss is about 9.2"
   ]
  },
  {
   "cell_type": "markdown",
   "metadata": {},
   "source": [
    "* Likewise, if the model predicts close to 0 ($h(z) = 0.0001$) but the actual\n",
    "label is 1, the first term in the loss function becomes a large number: $-1\n",
    "\\times log(0.0001) \\approx 9.2$. The closer the prediction is to zero, the\n",
    "larger the loss."
   ]
  },
  {
   "cell_type": "code",
   "execution_count": null,
   "metadata": {},
   "outputs": [],
   "source": [
    "# Verify that when the model predicts close to 0 but the actual label is 1, the\n",
    "# loss is a large positive value:\n",
    "-1 * np.log(0.0001) # Loss is about 9.2"
   ]
  },
  {
   "cell_type": "markdown",
   "metadata": {},
   "source": [
    "#### Update the weights\n",
    "\n",
    "To update your weight vector $\\theta$, you will apply gradient descent to\n",
    "iteratively improve your model's predictions.\n",
    "The gradient of the cost function $J$ with respect to one of the weights\n",
    "$\\theta_j$ is:\n",
    "\n",
    "$$\\nabla_{\\theta_j}J(\\theta) = \\frac{1}{m} \\sum_{i=1}^m(h^{(i)}-y^{(i)})x_j\n",
    "\\tag{5}$$\n",
    "* 'i' is the index across all 'm' training examples.\n",
    "* 'j' is the index of the weight $\\theta_j$, so $x_j$ is the feature associated\n",
    "with weight $\\theta_j$\n",
    "\n",
    "* To update the weight $\\theta_j$, we adjust it by subtracting a fraction of the\n",
    "gradient determined by $\\alpha$:\n",
    "$$\\theta_j = \\theta_j - \\alpha \\times \\nabla_{\\theta_j}J(\\theta) $$\n",
    "* The learning rate $\\alpha$ is a value that we choose to control how big a\n",
    "single update will be.\n",
    "\n",
    "## Instructions: Implement gradient descent function\n",
    "* The number of iterations `num_iters` is the number of times that you'll use\n",
    "the entire training set.\n",
    "* For each iteration, you'll calculate the cost function using all training\n",
    "examples (there are `m` training examples), and for all features.\n",
    "* Instead of updating a single weight $\\theta_i$ at a time, we can update all\n",
    "the weights in the column vector:\n",
    "$$\\mathbf{\\theta} = \\begin{pmatrix}\n",
    "\\theta_0\n",
    "\\\\\n",
    "\\theta_1\n",
    "\\\\\n",
    "\\theta_2\n",
    "\\\\\n",
    "\\vdots\n",
    "\\\\\n",
    "\\theta_n\n",
    "\\end{pmatrix}$$\n",
    "* $\\mathbf{\\theta}$ has dimensions (n+1, 1), where 'n' is the number of\n",
    "features, and there is one more element for the bias term $\\theta_0$ (note that\n",
    "the corresponding feature value $\\mathbf{x_0}$ is 1).\n",
    "* The 'logits', 'z', are calculated by multiplying the feature matrix 'x' with\n",
    "the weight vector 'theta'.  $z = \\mathbf{x}\\mathbf{\\theta}$\n",
    "    * $\\mathbf{x}$ has dimensions (m, n+1)\n",
    "    * $\\mathbf{\\theta}$: has dimensions (n+1, 1)\n",
    "    * $\\mathbf{z}$: has dimensions (m, 1)\n",
    "* The prediction 'h', is calculated by applying the sigmoid to each element in\n",
    "'z': $h(z) = sigmoid(z)$, and has dimensions (m,1).\n",
    "* The cost function $J$ is calculated by taking the dot product of the vectors\n",
    "'y' and 'log(h)'.  Since both 'y' and 'h' are column vectors (m,1), transpose\n",
    "the vector to the left, so that matrix multiplication of a row vector with\n",
    "column vector performs the dot product.\n",
    "$$J = \\frac{-1}{m} \\times \\left(\\mathbf{y}^T \\cdot log(\\mathbf{h}) +\n",
    "\\mathbf{(1-y)}^T \\cdot log(\\mathbf{1-h}) \\right)$$\n",
    "* The update of theta is also vectorized.  Because the dimensions of\n",
    "$\\mathbf{x}$ are (m, n+1), and both $\\mathbf{h}$ and $\\mathbf{y}$ are (m, 1), we\n",
    "need to transpose the $\\mathbf{x}$ and place it on the left in order to perform\n",
    "matrix multiplication, which then yields the (n+1, 1) answer we need:\n",
    "$$\\mathbf{\\theta} = \\mathbf{\\theta} - \\frac{\\alpha}{m} \\times \\left(\n",
    "\\mathbf{x}^T \\cdot \\left( \\mathbf{h-y} \\right) \\right)$$\n",
    "\n",
    "<details>\n",
    "<summary>\n",
    "    <font size=\"3\" color=\"darkgreen\"><b>Hints</b></font>\n",
    "</summary>\n",
    "<p>\n",
    "<ul>\n",
    "    <li>use np.dot for matrix multiplication.</li>\n",
    "    <li>To ensure that the fraction -1/m is a decimal value, cast either the\n",
    "numerator or denominator (or both), like `float(1)`, or write `1.` for the float\n",
    "version of 1. </li>\n",
    "</ul>\n",
    "</p>"
   ]
  },
  {
   "cell_type": "code",
   "execution_count": null,
   "metadata": {},
   "outputs": [],
   "source": [
    "# UNQ_C2 (UNIQUE CELL IDENTIFIER, DO NOT EDIT)\n",
    "def gradientDescent(x, y, theta, alpha, num_iters):\n",
    "    \"\"\"\n",
    "    Input:\n",
    "        x: Matrix of features which is (m, n + 1)\n",
    "        y: Labels corresponding to the input matrix x; Dimension: (m, 1)\n",
    "        theta: Weight vector of dimension (n + 1, 1)\n",
    "        alpha: Learning rate\n",
    "        num_iters: Number of iterations you want to train your model for\n",
    "    Output:\n",
    "        J: Final cost\n",
    "        theta: Final weight vector\n",
    "    Hint: You might want to print the cost to make sure that it is going down.\n",
    "    \"\"\"\n",
    "\n",
    "    # START CODE HERE\n",
    "\n",
    "    # Get m, the number of rows in matrix x:\n",
    "    m = x.shape[0]\n",
    "\n",
    "    # A few helper variables to avoid repeating calculations:\n",
    "    m_inv = 1 / m\n",
    "    x_transpose = np.transpose(x)\n",
    "    y_transpose = np.transpose(y)\n",
    "    y_1_transpose = np.transpose(1 - y)\n",
    "\n",
    "    for i in range(num_iters):\n",
    "\n",
    "        # Get z, the product of x and theta:\n",
    "        z = np.matmul(x, theta)\n",
    "\n",
    "        # Get sigmoid of z:\n",
    "        h = sigmoid(z)\n",
    "\n",
    "        # Calculate the cost function:\n",
    "        J = np.matmul(y_transpose, np.log(h))\n",
    "        J += np.matmul(y_1_transpose, np.log(1 - h))\n",
    "        J *= - m_inv\n",
    "\n",
    "        # Calculate the gradient of the cost function:\n",
    "        grad_J = np.matmul(x_transpose, h - y)\n",
    "        grad_J *= m_inv\n",
    "\n",
    "        # Update the weights theta:\n",
    "        theta -= alpha * grad_J\n",
    "\n",
    "    # END CODE HERE\n",
    "\n",
    "    J = float(J)\n",
    "    return J, theta"
   ]
  },
  {
   "cell_type": "code",
   "execution_count": null,
   "metadata": {},
   "outputs": [],
   "source": [
    "# Check the function:\n",
    "\n",
    "# Construct a synthetic test case using numpy PRNG functions:\n",
    "np.random.seed(1)\n",
    "# X input is 10 x 3 with ones for the bias terms:\n",
    "tmp_X = np.append(\n",
    "    np.ones((10, 1)),\n",
    "    np.random.rand(10, 2) * 2000,\n",
    "    axis=1\n",
    ")\n",
    "# Y labels are 10 x 1:\n",
    "tmp_Y = (np.random.rand(10, 1) > 0.35).astype(float)\n",
    "\n",
    "# Apply gradient descent:\n",
    "tmp_J, tmp_theta = gradientDescent(\n",
    "    tmp_X,\n",
    "    tmp_Y,\n",
    "    np.zeros((3, 1)),\n",
    "    10 ** (-8),\n",
    "    700\n",
    ")\n",
    "print(f\"The cost after training is {tmp_J:.8f}.\")\n",
    "temp = [round(t, 8) for t in np.squeeze(tmp_theta)]\n",
    "print(f\"The resulting vector of weights is {temp}.\")"
   ]
  },
  {
   "cell_type": "markdown",
   "metadata": {},
   "source": [
    "#### Expected output"
   ]
  },
  {
   "cell_type": "code",
   "execution_count": null,
   "metadata": {},
   "outputs": [],
   "source": [
    "The cost after training is 0.67094970.\n",
    "The resulting vector of weights is [4.1e-07, 0.00035658, 7.309e-05]"
   ]
  },
  {
   "cell_type": "markdown",
   "metadata": {},
   "source": [
    "## Part 2: Extracting the features\n",
    "\n",
    "* Given a list of tweets, extract the features and store them in a matrix. You\n",
    "will extract two features.\n",
    "    * The first feature is the number of positive words in a tweet.\n",
    "    * The second feature is the number of negative words in a tweet.\n",
    "* Then train your logistic regression classifier on these features.\n",
    "* Test the classifier on a validation set.\n",
    "\n",
    "### Instructions: Implement the extract_features function.\n",
    "* This function takes in a single tweet.\n",
    "* Process the tweet using the imported `process_tweet()` function and save the\n",
    "list of tweet words.\n",
    "* Loop through each word in the list of processed words\n",
    "    * For each word, check the `freqs` dictionary for the count when that word\n",
    "has a positive '1' label. (Check for the key (word, 1.0)\n",
    "    * Do the same for the count for when the word is associated with the\n",
    "negative label '0'. (Check for the key (word, 0.0).)\n",
    "\n",
    "<details>\n",
    "<summary>\n",
    "    <font size=\"3\" color=\"darkgreen\"><b>Hints</b></font>\n",
    "</summary>\n",
    "<p>\n",
    "<ul>\n",
    "    <li>Make sure you handle cases when the (word, label) key is not found in\n",
    "the dictionary. </li>\n",
    "    <li> Search the web for hints about using the `.get()` method of a Python\n",
    "dictionary.  Here is an <a href=\"https://www.programiz.com/python-\n",
    "programming/methods/dictionary/get\" > example </a> </li>\n",
    "</ul>\n",
    "</p>"
   ]
  },
  {
   "cell_type": "code",
   "execution_count": null,
   "metadata": {},
   "outputs": [],
   "source": [
    "# UNQ_C3 (UNIQUE CELL IDENTIFIER, DO NOT EDIT)\n",
    "def extract_features(tweet, freqs):\n",
    "    \"\"\"\n",
    "    Input:\n",
    "        tweet: List of words for one tweet\n",
    "        freqs: Dictionary corresponding to the frequencies of each tuple (word, label)\n",
    "    Output:\n",
    "        x: Feature vector of dimension (1, 3)\n",
    "    \"\"\"\n",
    "\n",
    "    # process_tweet tokenizes, stems, and removes stopwords.\n",
    "    word_l = process_tweet(tweet)\n",
    "\n",
    "    # 3 elements in the form of a 1 x 3 vector:\n",
    "    x = np.zeros((1, 3))\n",
    "\n",
    "    # Bias term is set to 1:\n",
    "    x[0, 0] = 1\n",
    "\n",
    "    # START CODE HERE\n",
    "\n",
    "    # Loop through each word in the list of words:\n",
    "    for word in word_l:\n",
    "\n",
    "        # Increment the word count for the positive label 1:\n",
    "        pair = (word, 1.0)\n",
    "        x[0, 1] += freqs[pair] if pair in freqs else 0\n",
    "\n",
    "        # Increment the word count for the negative label 0:\n",
    "        pair = (word, 0.0)\n",
    "        x[0, 2] += freqs[pair] if pair in freqs else 0\n",
    "\n",
    "    # END CODE HERE\n",
    "\n",
    "    assert(x.shape == (1, 3))\n",
    "    return x"
   ]
  },
  {
   "cell_type": "code",
   "execution_count": null,
   "metadata": {},
   "outputs": [],
   "source": [
    "# Check your function:\n",
    "\n",
    "# Test 1\n",
    "# Test on training data\n",
    "tmp1 = extract_features(train_x[0], freqs)\n",
    "print(tmp1)"
   ]
  },
  {
   "cell_type": "markdown",
   "metadata": {},
   "source": [
    "#### Expected output"
   ]
  },
  {
   "cell_type": "code",
   "execution_count": null,
   "metadata": {},
   "outputs": [],
   "source": [
    "[[1.00e+00 3.02e+03 6.10e+01]]"
   ]
  },
  {
   "cell_type": "code",
   "execution_count": null,
   "metadata": {},
   "outputs": [],
   "source": [
    "# Test 2\n",
    "# Check for when the words are not in the freqs dictionary\n",
    "tmp2 = extract_features(\"blorb bleeeeb bloooob\", freqs)\n",
    "print(tmp2)"
   ]
  },
  {
   "cell_type": "markdown",
   "metadata": {},
   "source": [
    "#### Expected output"
   ]
  },
  {
   "cell_type": "code",
   "execution_count": null,
   "metadata": {},
   "outputs": [],
   "source": [
    "[[1. 0. 0.]]"
   ]
  },
  {
   "cell_type": "markdown",
   "metadata": {},
   "source": [
    "## Part 3: Training Your Model\n",
    "\n",
    "To train the model:\n",
    "* Stack the features for all training examples into a matrix `X`.\n",
    "* Call `gradientDescent`, which you've implemented above.\n",
    "\n",
    "This section is given to you.  Please read it for understanding and run the\n",
    "cell."
   ]
  },
  {
   "cell_type": "code",
   "execution_count": null,
   "metadata": {},
   "outputs": [],
   "source": [
    "# Collect the features x and stack them into a matrix X:\n",
    "L = len(train_x)\n",
    "X = np.zeros((L, 3))\n",
    "for i in range(L):\n",
    "    X[i, :] = extract_features(train_x[i], freqs)\n",
    "\n",
    "# Training labels corresponding to X:\n",
    "Y = train_y\n",
    "\n",
    "# Apply gradient descent:\n",
    "J, theta = gradientDescent(\n",
    "    X,\n",
    "    Y,\n",
    "    np.zeros((3, 1)),\n",
    "    10 ** (-9),\n",
    "    1500\n",
    ")\n",
    "print(f\"The cost after training is {J:.8f}.\")\n",
    "temp = [round(t, 8) for t in np.squeeze(theta)]\n",
    "print(f\"The resulting vector of weights is {temp}.\")"
   ]
  },
  {
   "cell_type": "markdown",
   "metadata": {},
   "source": [
    "**Expected Output**:"
   ]
  },
  {
   "cell_type": "code",
   "execution_count": null,
   "metadata": {},
   "outputs": [],
   "source": [
    "The cost after training is 0.24216529.\n",
    "The resulting vector of weights is [7e-08, 0.0005239, -0.00055517]"
   ]
  },
  {
   "cell_type": "markdown",
   "metadata": {},
   "source": [
    "# Part 4: Test your logistic regression\n",
    "\n",
    "It is time for you to test your logistic regression function on some new input\n",
    "that your model has not seen before.\n",
    "\n",
    "#### Instructions: Write `predict_tweet`\n",
    "Predict whether a tweet is positive or negative.\n",
    "\n",
    "* Given a tweet, process it, then extract the features.\n",
    "* Apply the model's learned weights on the features to get the logits.\n",
    "* Apply the sigmoid to the logits to get the prediction (a value between 0 and\n",
    "1).\n",
    "\n",
    "$$y_{pred} = sigmoid(\\mathbf{x} \\cdot \\theta)$$"
   ]
  },
  {
   "cell_type": "code",
   "execution_count": null,
   "metadata": {},
   "outputs": [],
   "source": [
    "# UNQ_C4 (UNIQUE CELL IDENTIFIER, DO NOT EDIT)\n",
    "def predict_tweet(tweet, freqs, theta):\n",
    "    \"\"\"\n",
    "    Input:\n",
    "        tweet: String containing the tweet\n",
    "        freqs: Dictionary corresponding to the frequencies of each tuple (word, label)\n",
    "        theta: (3, 1) vector of weights\n",
    "    Output:\n",
    "        y_pred: Probability of a tweet being positive or negative\n",
    "    \"\"\"\n",
    "\n",
    "    # START CODE HERE\n",
    "\n",
    "    # Extract the features of the tweet and store them in x:\n",
    "    x = extract_features(tweet, freqs)\n",
    "\n",
    "    # Make prediction using x and theta:\n",
    "    y_pred = sigmoid(np.matmul(x, theta))\n",
    "\n",
    "    # END CODE HERE\n",
    "\n",
    "    return y_pred"
   ]
  },
  {
   "cell_type": "code",
   "execution_count": null,
   "metadata": {},
   "outputs": [],
   "source": [
    "# Run this cell to test your function.\n",
    "tweets = [\n",
    "    \"I am happy\",\n",
    "    \"I am bad\",\n",
    "    \"this movie should have been great.\",\n",
    "    \"great\",\n",
    "    \"great great\",\n",
    "    \"great great great\",\n",
    "    \"great great great great\"\n",
    "]\n",
    "for tweet in tweets:\n",
    "    print(\"%s -> %f\" % (tweet, predict_tweet(tweet, freqs, theta)))"
   ]
  },
  {
   "cell_type": "markdown",
   "metadata": {},
   "source": [
    "**Expected Output**:"
   ]
  },
  {
   "cell_type": "code",
   "execution_count": null,
   "metadata": {},
   "outputs": [],
   "source": [
    "I am happy -> 0.518580\n",
    "I am bad -> 0.494339\n",
    "this movie should have been great. -> 0.515331\n",
    "great -> 0.515464\n",
    "great great -> 0.530898\n",
    "great great great -> 0.546273\n",
    "great great great great -> 0.561561"
   ]
  },
  {
   "cell_type": "code",
   "execution_count": null,
   "metadata": {},
   "outputs": [],
   "source": [
    "# Feel free to check the sentiment of your own tweet below:\n",
    "my_tweet = \"He is an idiot\"\n",
    "predict_tweet(my_tweet, freqs, theta)"
   ]
  },
  {
   "cell_type": "markdown",
   "metadata": {},
   "source": [
    "## Check performance using the test set\n",
    "After training your model using the training set above, check how your model\n",
    "might perform on real, unseen data, by testing it against the test set.\n",
    "\n",
    "#### Instructions: Implement `test_logistic_regression`\n",
    "* Given the test data and the weights of your trained model, calculate the\n",
    "accuracy of your logistic regression model.\n",
    "* Use your `predict_tweet()` function to make predictions on each tweet in the\n",
    "test set.\n",
    "* If the prediction is > 0.5, set the model's classification `y_hat` to 1,\n",
    "otherwise set the model's classification `y_hat` to 0.\n",
    "* A prediction is accurate when `y_hat` equals `test_y`.  Sum up all the\n",
    "instances when they are equal and divide by `m`.\n",
    "\n",
    "<details>\n",
    "<summary>\n",
    "    <font size=\"3\" color=\"darkgreen\"><b>Hints</b></font>\n",
    "</summary>\n",
    "<p>\n",
    "<ul>\n",
    "    <li>Use np.asarray() to convert a list to a numpy array</li>\n",
    "    <li>Use np.squeeze() to make an (m,1) dimensional array into an (m,) array\n",
    "</li>\n",
    "</ul>\n",
    "</p>"
   ]
  },
  {
   "cell_type": "code",
   "execution_count": null,
   "metadata": {},
   "outputs": [],
   "source": [
    "# UNQ_C5 (UNIQUE CELL IDENTIFIER, DO NOT EDIT)\n",
    "def test_logistic_regression(test_x, test_y, freqs, theta):\n",
    "    \"\"\"\n",
    "    Input:\n",
    "        test_x: List of tweets\n",
    "        test_y: (m, 1) vector with the corresponding labels for the list of tweets\n",
    "        freqs: Dictionary corresponding to the frequencies of each tuple (word, label)\n",
    "        theta: Weight vector of dimension (3, 1)\n",
    "    Output:\n",
    "        accuracy: (# of tweets classified correctly) / (total # of tweets)\n",
    "    \"\"\"\n",
    "\n",
    "    # START CODE HERE\n",
    "\n",
    "    # List for storing predictions:\n",
    "    y_hat = []\n",
    "\n",
    "    for tweet in test_x:\n",
    "        # Get the label prediction for the tweet:\n",
    "        y_pred = predict_tweet(tweet, freqs, theta)\n",
    "\n",
    "        if y_pred > 0.5:\n",
    "            # Append 1.0 to the list:\n",
    "            y_hat.append(1.0)\n",
    "        else:\n",
    "            # Append 0 to the list:\n",
    "            y_hat.append(0)\n",
    "\n",
    "    # With the above implementation, y_hat is a list, but test_y is (m, 1) array.\n",
    "    # Convert both to one-dimensional arrays in order to compare them using the\n",
    "    # \"==\" operator:\n",
    "    test_y = test_y.flatten()\n",
    "    y_hat = np.array(y_hat)\n",
    "\n",
    "    accuracy = np.mean(np.equal(test_y, y_hat).astype(float))\n",
    "\n",
    "    # END CODE HERE\n",
    "\n",
    "    return accuracy"
   ]
  },
  {
   "cell_type": "code",
   "execution_count": null,
   "metadata": {},
   "outputs": [],
   "source": [
    "tmp_accuracy = test_logistic_regression(test_x, test_y, freqs, theta)\n",
    "print(f\"Logistic regression model's accuracy = {tmp_accuracy:.4f}\")"
   ]
  },
  {
   "cell_type": "markdown",
   "metadata": {},
   "source": [
    "#### Expected Output:\n",
    "\n",
    "0.9950\n",
    "Pretty good!\n",
    "\n",
    "# Part 5: Error Analysis\n",
    "\n",
    "In this part you will see some tweets that your model misclassified. Why do you\n",
    "think the misclassifications happened? Specifically what kind of tweets does\n",
    "your model misclassify?"
   ]
  },
  {
   "cell_type": "code",
   "execution_count": null,
   "metadata": {},
   "outputs": [],
   "source": [
    "# Some error analysis done for you:\n",
    "print(\"Label Predicted Tweet\")\n",
    "for x, y in zip(test_x, test_y):\n",
    "    y_hat = predict_tweet(x, freqs, theta)\n",
    "    if np.abs(y - (y_hat > 0.5)) > 0:\n",
    "        print(\"THE TWEET IS:\", x)\n",
    "        print(\"THE PROCESSED TWEET IS:\", process_tweet(x))\n",
    "        print(\"%d\\t%0.8f\\t%s\"\n",
    "              % (y, y_hat, \" \".join(process_tweet(x)).encode(\"ascii\", \"ignore\")))"
   ]
  },
  {
   "cell_type": "markdown",
   "metadata": {},
   "source": [
    "Later in this specialization, we will see how we can use deep learning to\n",
    "improve the prediction performance.\n",
    "\n",
    "# Part 6: Predict with your own tweet"
   ]
  },
  {
   "cell_type": "code",
   "execution_count": null,
   "metadata": {},
   "outputs": [],
   "source": [
    "# Feel free to change the tweet below:\n",
    "my_tweet = (\n",
    "    \"This is a ridiculously bright movie. \"\n",
    "    \"The plot was terrible and I was sad until the ending!\"\n",
    ")\n",
    "print(process_tweet(my_tweet))\n",
    "y_hat = predict_tweet(my_tweet, freqs, theta)\n",
    "print(y_hat)\n",
    "if y_hat > 0.5:\n",
    "    print(\"Positive sentiment\")\n",
    "else:\n",
    "    print(\"Negative sentiment\")"
   ]
  }
 ],
 "metadata": {},
 "nbformat": 4,
 "nbformat_minor": 4
}
